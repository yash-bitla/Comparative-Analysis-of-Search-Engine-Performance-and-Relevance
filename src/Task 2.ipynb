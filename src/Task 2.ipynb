{
 "cells": [
  {
   "attachments": {},
   "cell_type": "markdown",
   "metadata": {},
   "source": [
    "# Imports"
   ]
  },
  {
   "cell_type": "code",
   "execution_count": 1,
   "metadata": {},
   "outputs": [],
   "source": [
    "import json\n",
    "import pandas as pd"
   ]
  },
  {
   "attachments": {},
   "cell_type": "markdown",
   "metadata": {},
   "source": [
    "# Load Data"
   ]
  },
  {
   "cell_type": "code",
   "execution_count": 2,
   "metadata": {},
   "outputs": [],
   "source": [
    "def get_data(file_name):\n",
    "    with open(file_name) as file:\n",
    "        return json.load(file)"
   ]
  },
  {
   "cell_type": "code",
   "execution_count": 3,
   "metadata": {},
   "outputs": [],
   "source": [
    "google_data = get_data(\"Google_Result3.json\")\n",
    "ask_data = get_data(\"results.json\")"
   ]
  },
  {
   "attachments": {},
   "cell_type": "markdown",
   "metadata": {},
   "source": [
    "# Generate Values"
   ]
  },
  {
   "cell_type": "code",
   "execution_count": 51,
   "metadata": {},
   "outputs": [],
   "source": [
    "data = {\"Queries\": [], \"Overlap\": [], \"Percent_Overlap\": [], \"Spearman_Coefficient\": []}\n",
    "itr = 1\n",
    "\n",
    "for query in ask_data:\n",
    "    data[\"Queries\"].append(f\"Query {itr}\")\n",
    "    itr +=1 \n",
    "\n",
    "    google_set = set(google_data[query])\n",
    "    ask_set = set(ask_data[query])\n",
    "    overlap = google_set.intersection(ask_set)\n",
    "    n = len(overlap)\n",
    "    data[\"Overlap\"].append(n)\n",
    "    data[\"Percent_Overlap\"].append(n*10)\n",
    "\n",
    "    # print(query, overlap)\n",
    "    # print([(google_data[query].index(url), ask_data[query].index(url)) for url in overlap])\n",
    "    d_i2 = [(google_data[query].index(url)-ask_data[query].index(url))**2 for url in overlap]\n",
    "    if n == 0:\n",
    "        rho = 0\n",
    "    elif n == 1:\n",
    "        rho = 1 if d_i2[0] == 0 else 0\n",
    "    else:\n",
    "        rho = 1 - ((6 * sum(d_i2)) / (n * (n**2 - 1)))\n",
    "    \n",
    "    data[\"Spearman_Coefficient\"].append(rho)\n",
    "    # break"
   ]
  },
  {
   "cell_type": "code",
   "execution_count": 55,
   "metadata": {},
   "outputs": [],
   "source": [
    "df = pd.DataFrame(data)\n",
    "avgs = df.mean().to_dict()\n",
    "avgs[\"col1\"] = \"Averages\"\n",
    "final_df = df.append(avgs, ignore_index=True)"
   ]
  },
  {
   "cell_type": "code",
   "execution_count": 56,
   "metadata": {},
   "outputs": [],
   "source": [
    "final_df.to_csv(\"results.csv\", index=False)"
   ]
  }
 ],
 "metadata": {
  "kernelspec": {
   "display_name": "personal",
   "language": "python",
   "name": "python3"
  },
  "language_info": {
   "codemirror_mode": {
    "name": "ipython",
    "version": 3
   },
   "file_extension": ".py",
   "mimetype": "text/x-python",
   "name": "python",
   "nbconvert_exporter": "python",
   "pygments_lexer": "ipython3",
   "version": "3.10.8"
  },
  "orig_nbformat": 4,
  "vscode": {
   "interpreter": {
    "hash": "ef1947599de3f98576eeb159f2e438ff2b5abd15ddd1af32276e5d8d0669493b"
   }
  }
 },
 "nbformat": 4,
 "nbformat_minor": 2
}
