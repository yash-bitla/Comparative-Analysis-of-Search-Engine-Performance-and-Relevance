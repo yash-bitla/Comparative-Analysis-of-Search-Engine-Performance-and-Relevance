{
 "cells": [
  {
   "attachments": {},
   "cell_type": "markdown",
   "metadata": {},
   "source": [
    "# Imports"
   ]
  },
  {
   "cell_type": "code",
   "execution_count": null,
   "metadata": {},
   "outputs": [
    {
     "ename": "",
     "evalue": "",
     "output_type": "error",
     "traceback": [
      "\u001b[1;31mRunning cells with '.conda (Python 3.9.19)' requires the ipykernel package.\n",
      "\u001b[1;31mRun the following command to install 'ipykernel' into the Python environment. \n",
      "\u001b[1;31mCommand: 'conda install -p c:\\Users\\YASH\\Desktop\\Comparative-Analysis-of-Search-Engine-Performance-and-Relevance\\.conda ipykernel --update-deps --force-reinstall'"
     ]
    }
   ],
   "source": [
    "from bs4 import BeautifulSoup\n",
    "from time import sleep\n",
    "import requests\n",
    "import time\n",
    "import json\n",
    "from random import randint\n",
    "from html.parser import HTMLParser\n",
    "USER_AGENT = {'User-Agent':'Mozilla/5.0 (Windows NT 10.0; Win64; x64) AppleWebKit/537.36 (KHTML, like Gecko) Chrome/61.0.3163.100 Safari/537.36'}"
   ]
  },
  {
   "attachments": {},
   "cell_type": "markdown",
   "metadata": {},
   "source": [
    "# Search Class"
   ]
  },
  {
   "cell_type": "code",
   "execution_count": null,
   "metadata": {},
   "outputs": [],
   "source": [
    "class SearchEngine:\n",
    "    @staticmethod\n",
    "    def search(query, sleep=True):\n",
    "        if sleep: # Prevents loading too many pages too soon\n",
    "            time.sleep(randint(10, 100))\n",
    "        temp_url = '+'.join(query.split()) #for adding + between words for the query\n",
    "        url = 'http://www.ask.com/web?q=' + temp_url\n",
    "        soup = BeautifulSoup(requests.get(url, headers=USER_AGENT).text,\"html.parser\")\n",
    "        new_results = SearchEngine.scrape_search_result(soup)\n",
    "        return new_results\n",
    "    \n",
    "    @staticmethod\n",
    "    def scrape_search_result(soup):\n",
    "        raw_results = soup.find_all(\"a\", attrs={\"class\": \"PartialSearchResults-item-title-link result-link\"})\n",
    "        results = []\n",
    "\n",
    "        for result in raw_results:\n",
    "            link = result.get('href')\n",
    "            results.append(link)\n",
    "        return list(set(results))[:10]"
   ]
  },
  {
   "attachments": {},
   "cell_type": "markdown",
   "metadata": {},
   "source": [
    "# Queries"
   ]
  },
  {
   "cell_type": "code",
   "execution_count": null,
   "metadata": {},
   "outputs": [],
   "source": [
    "with open(\"100QueriesSet3.txt\") as file:\n",
    "    queries = [line.strip() for line in file.readlines()]"
   ]
  },
  {
   "cell_type": "code",
   "execution_count": null,
   "metadata": {},
   "outputs": [],
   "source": [
    "query_data = dict()\n",
    "task = SearchEngine()\n",
    "\n",
    "for itr, query in enumerate(queries):\n",
    "    query_data[query] = task.search(query)\n",
    "    print(itr)"
   ]
  },
  {
   "cell_type": "code",
   "execution_count": null,
   "metadata": {},
   "outputs": [],
   "source": [
    "len(query_data)"
   ]
  },
  {
   "cell_type": "code",
   "execution_count": null,
   "metadata": {},
   "outputs": [],
   "source": [
    "with open(\"results.json\", \"w\") as file:\n",
    "    json.dump(query_data, file, indent=2)"
   ]
  }
 ],
 "metadata": {
  "kernelspec": {
   "display_name": "Python 3",
   "language": "python",
   "name": "python3"
  },
  "language_info": {
   "codemirror_mode": {
    "name": "ipython",
    "version": 3
   },
   "file_extension": ".py",
   "mimetype": "text/x-python",
   "name": "python",
   "nbconvert_exporter": "python",
   "pygments_lexer": "ipython3",
   "version": "3.9.19"
  },
  "orig_nbformat": 4,
  "vscode": {
   "interpreter": {
    "hash": "aee8b7b246df8f9039afb4144a1f6fd8d2ca17a180786b69acc140d282b71a49"
   }
  }
 },
 "nbformat": 4,
 "nbformat_minor": 2
}
